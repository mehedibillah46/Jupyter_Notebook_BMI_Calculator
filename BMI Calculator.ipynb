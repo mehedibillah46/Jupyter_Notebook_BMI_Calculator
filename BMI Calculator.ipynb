{
 "cells": [
  {
   "cell_type": "code",
   "execution_count": 63,
   "id": "a1d8672d-6dbd-43cb-a800-59252b333daa",
   "metadata": {},
   "outputs": [
    {
     "name": "stdout",
     "output_type": "stream",
     "text": [
      "*****BMI CALCULATOR*****\n"
     ]
    },
    {
     "name": "stdin",
     "output_type": "stream",
     "text": [
      "Please enter your name: mehedi\n",
      "Please enter your weight in Kg: 100\n",
      "Please enter your height in cm 1.82\n"
     ]
    },
    {
     "name": "stdout",
     "output_type": "stream",
     "text": [
      "Your BMI is : 30.19\n",
      "mehedi, you are in obese range\n"
     ]
    }
   ],
   "source": [
    "print (\"*****BMI CALCULATOR*****\")\n",
    "name = input(\"Please enter your name:\")\n",
    "weight = float (input (\"Please enter your weight in Kg:\"))\n",
    "height = float (input(\"Please enter your height in m\"))\n",
    "BMI = weight / (height *height)\n",
    "print(\"Your BMI is :\",f\"{BMI:.2f}\")\n",
    "if BMI<18.5:\n",
    "    print(name+\", you are underweight \")\n",
    "elif BMI>=18.5 and BMI<=24.9:\n",
    "    print(name +\", you are healthy\")\n",
    "elif BMI>=25 and BMI<=29.9:\n",
    "    print(name +\", you are overweight\")\n",
    "elif BMI>=30 and BMI<=34.9:\n",
    "    print(name +\", you are obese\")\n",
    "elif BMI>=35 and BMI<=39.9:\n",
    "    print(name +\", you are severly obese\")\n",
    "elif BMI>=40: \n",
    "    print(name +\", you are Morbidly obese\")\n",
    "else:\n",
    "    print(\"your input is incorrect\")"
   ]
  },
  {
   "cell_type": "code",
   "execution_count": null,
   "id": "edf285ec-1ab2-4b2c-b3ba-58e7ba29ef2d",
   "metadata": {},
   "outputs": [],
   "source": [
    "# BMI = (weight in pounds or kg X 703)/(height in inches or cm x height in inches or cm)"
   ]
  },
  {
   "cell_type": "code",
   "execution_count": null,
   "id": "81466164-ace9-4a3e-b247-19ca7de0fdd5",
   "metadata": {},
   "outputs": [],
   "source": []
  },
  {
   "cell_type": "code",
   "execution_count": null,
   "id": "34507fad-921c-4021-9590-518c32634306",
   "metadata": {},
   "outputs": [],
   "source": []
  },
  {
   "cell_type": "code",
   "execution_count": null,
   "id": "082dd436-58dd-4455-aba7-91b8093cbe12",
   "metadata": {},
   "outputs": [],
   "source": []
  },
  {
   "cell_type": "code",
   "execution_count": null,
   "id": "f2967c27-d22e-4841-afdc-addfa4152203",
   "metadata": {},
   "outputs": [],
   "source": []
  }
 ],
 "metadata": {
  "kernelspec": {
   "display_name": "Python 3 (ipykernel)",
   "language": "python",
   "name": "python3"
  },
  "language_info": {
   "codemirror_mode": {
    "name": "ipython",
    "version": 3
   },
   "file_extension": ".py",
   "mimetype": "text/x-python",
   "name": "python",
   "nbconvert_exporter": "python",
   "pygments_lexer": "ipython3",
   "version": "3.12.7"
  }
 },
 "nbformat": 4,
 "nbformat_minor": 5
}
